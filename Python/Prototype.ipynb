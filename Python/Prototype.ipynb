{
 "cells": [
  {
   "cell_type": "code",
   "execution_count": 1,
   "id": "d806974f-f754-4407-b867-2d1ed20bb5d2",
   "metadata": {},
   "outputs": [],
   "source": [
    "import time\n",
    "from selenium import webdriver\n",
    "from selenium.webdriver.common.keys import Keys\n",
    "from selenium.webdriver.common.by import By\n",
    "from selenium.webdriver.common.action_chains import ActionChains\n",
    "\n",
    "import geopandas as gpd"
   ]
  },
  {
   "cell_type": "code",
   "execution_count": 2,
   "id": "83ac472a-b9a7-4449-8241-bc56f3e3bbea",
   "metadata": {},
   "outputs": [],
   "source": [
    "zaryadye_park = '55.749435, 37.629416'"
   ]
  },
  {
   "cell_type": "code",
   "execution_count": 3,
   "id": "3fc1d7b1-8226-4ac5-8944-9c452c12b84d",
   "metadata": {},
   "outputs": [],
   "source": [
    "grid = gpd.read_file('data/shp/moscow_grid.shp')"
   ]
  },
  {
   "cell_type": "code",
   "execution_count": 4,
   "id": "ec3a985a-ab41-418a-bdf1-28f887ea8720",
   "metadata": {},
   "outputs": [],
   "source": [
    "# configure Yandex Maps specific class names\n",
    "route_button = 'route-control__inner'\n",
    "transport_mode = '_mode_masstransit'\n",
    "result = 'masstransit-route-snippet-view__route-duration'"
   ]
  },
  {
   "cell_type": "code",
   "execution_count": 5,
   "id": "63ee2a95-288f-43f2-a622-b995f6369822",
   "metadata": {},
   "outputs": [],
   "source": [
    "def look_up_transit_time(from_:str, to:str) -> str:\n",
    "    \"\"\" Lookup transit time between to points on Yandex Maps.\n",
    "    \n",
    "    Args:\n",
    "        from_ (str): The start point.\n",
    "        to (str): The end point.\n",
    "        \n",
    "    Returns:\n",
    "        A string with the best time suggested by Yandex Maps.\n",
    "    \n",
    "    Notes:\n",
    "        The strings will be typed into the search fields, they can be coordinates or names of places.\n",
    "        When using coordinates, note that Yandex Maps expects them latitude-first.\n",
    "    \n",
    "    \"\"\"\n",
    "    \n",
    "    driver.get('https://yandex.ru/maps')\n",
    "    \n",
    "    # let the page load: wait till DOM is fully constructed\n",
    "    time.sleep(2)  \n",
    "    \n",
    "    # enter the route construction mode\n",
    "    driver.find_element(by=By.CLASS_NAME, value=route_button).click()\n",
    "    \n",
    "    # construct the keystroke sequence\n",
    "    actions = ActionChains(driver)\n",
    "    actions.send_keys(from_)\n",
    "    actions.send_keys(Keys.ENTER)\n",
    "    actions.send_keys(Keys.TAB)\n",
    "    actions.send_keys(to)\n",
    "    actions.send_keys(Keys.ENTER)\n",
    "    \n",
    "    # type everything in\n",
    "    time.sleep(1)\n",
    "    actions.perform()\n",
    "    \n",
    "    # activate the public transport route\n",
    "    time.sleep(1)\n",
    "    driver.find_element(by=By.CLASS_NAME, value=transport_mode).click()\n",
    "    \n",
    "    # extract the time suggested in the first result\n",
    "    time.sleep(2)\n",
    "    best_time = driver.find_element(by=By.CLASS_NAME, value=result).text\n",
    "    \n",
    "    return best_time"
   ]
  },
  {
   "cell_type": "code",
   "execution_count": 6,
   "id": "7be927b5-82d2-4b50-a4d4-6e6ce6e40aef",
   "metadata": {},
   "outputs": [],
   "source": [
    "grid['best_time'] = str()"
   ]
  },
  {
   "cell_type": "code",
   "execution_count": 7,
   "id": "2bd78492-ea35-48d3-8874-151f29120f30",
   "metadata": {},
   "outputs": [],
   "source": [
    "with webdriver.Firefox() as driver:\n",
    "    \n",
    "    # iterate over the grid to find best ime for each point\n",
    "    for i, row in grid.iterrows():\n",
    "        geometry = row['geometry']\n",
    "        point = f'{geometry.y}, {geometry.x}'\n",
    "        best_time = look_up_transit_time(point, zaryadye_park)\n",
    "        \n",
    "        best_time = best_time.replace('ч', 'h')\n",
    "        brest_time = best_time.replace('мин', 'm')\n",
    "        grid.loc[i, 'best_time'] = best_time\n",
    "        \n",
    "        # Be nice to the Yandex Maps server and separate the requests a little\n",
    "        time.sleep(3)\n",
    "        \n",
    "        if i == 1:\n",
    "            break"
   ]
  },
  {
   "cell_type": "code",
   "execution_count": 22,
   "id": "2b9f10b6-ee2e-4ede-a80b-1edffb2b309b",
   "metadata": {},
   "outputs": [
    {
     "data": {
      "text/plain": [
       "'1 ч 42 мин'"
      ]
     },
     "execution_count": 22,
     "metadata": {},
     "output_type": "execute_result"
    }
   ],
   "source": [
    "best_time"
   ]
  },
  {
   "cell_type": "code",
   "execution_count": 16,
   "id": "a4a7b75e-752f-4602-8c99-1c90ca4640ff",
   "metadata": {},
   "outputs": [],
   "source": [
    "grid.to_file('test.shp', index=False)"
   ]
  }
 ],
 "metadata": {
  "kernelspec": {
   "display_name": "Python 3 (ipykernel)",
   "language": "python",
   "name": "python3"
  },
  "language_info": {
   "codemirror_mode": {
    "name": "ipython",
    "version": 3
   },
   "file_extension": ".py",
   "mimetype": "text/x-python",
   "name": "python",
   "nbconvert_exporter": "python",
   "pygments_lexer": "ipython3",
   "version": "3.9.12"
  }
 },
 "nbformat": 4,
 "nbformat_minor": 5
}
