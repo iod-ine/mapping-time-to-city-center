{
 "cells": [
  {
   "cell_type": "code",
   "execution_count": 1,
   "id": "d806974f-f754-4407-b867-2d1ed20bb5d2",
   "metadata": {},
   "outputs": [],
   "source": [
    "import time\n",
    "import datetime\n",
    "import selenium\n",
    "from selenium import webdriver\n",
    "from selenium.webdriver.common.keys import Keys\n",
    "from selenium.webdriver.common.by import By\n",
    "from selenium.webdriver.common.action_chains import ActionChains\n",
    "\n",
    "import geopandas as gpd"
   ]
  },
  {
   "cell_type": "code",
   "execution_count": 14,
   "id": "068cc72e-0c92-49cd-a32a-e92c1ee3451a",
   "metadata": {},
   "outputs": [
    {
     "data": {
      "text/plain": [
       "'2022-04-20T11:54:58.909464'"
      ]
     },
     "execution_count": 14,
     "metadata": {},
     "output_type": "execute_result"
    }
   ],
   "source": [
    "now = datetime.datetime.now()\n",
    "now.isoformat()"
   ]
  },
  {
   "cell_type": "code",
   "execution_count": 3,
   "id": "83ac472a-b9a7-4449-8241-bc56f3e3bbea",
   "metadata": {},
   "outputs": [],
   "source": [
    "zaryadye_park = '55.749435, 37.629416'"
   ]
  },
  {
   "cell_type": "code",
   "execution_count": 4,
   "id": "3fc1d7b1-8226-4ac5-8944-9c452c12b84d",
   "metadata": {},
   "outputs": [
    {
     "data": {
      "text/html": [
       "<div>\n",
       "<style scoped>\n",
       "    .dataframe tbody tr th:only-of-type {\n",
       "        vertical-align: middle;\n",
       "    }\n",
       "\n",
       "    .dataframe tbody tr th {\n",
       "        vertical-align: top;\n",
       "    }\n",
       "\n",
       "    .dataframe thead th {\n",
       "        text-align: right;\n",
       "    }\n",
       "</style>\n",
       "<table border=\"1\" class=\"dataframe\">\n",
       "  <thead>\n",
       "    <tr style=\"text-align: right;\">\n",
       "      <th></th>\n",
       "      <th>public</th>\n",
       "      <th>car</th>\n",
       "      <th>walk</th>\n",
       "      <th>cycle</th>\n",
       "      <th>date</th>\n",
       "      <th>geometry</th>\n",
       "    </tr>\n",
       "  </thead>\n",
       "  <tbody>\n",
       "    <tr>\n",
       "      <th>0</th>\n",
       "      <td>None</td>\n",
       "      <td>None</td>\n",
       "      <td>None</td>\n",
       "      <td>None</td>\n",
       "      <td>None</td>\n",
       "      <td>POINT (37.61878 55.48147)</td>\n",
       "    </tr>\n",
       "    <tr>\n",
       "      <th>1</th>\n",
       "      <td>None</td>\n",
       "      <td>None</td>\n",
       "      <td>None</td>\n",
       "      <td>None</td>\n",
       "      <td>None</td>\n",
       "      <td>POINT (37.62668 55.48156)</td>\n",
       "    </tr>\n",
       "    <tr>\n",
       "      <th>2</th>\n",
       "      <td>None</td>\n",
       "      <td>None</td>\n",
       "      <td>None</td>\n",
       "      <td>None</td>\n",
       "      <td>None</td>\n",
       "      <td>POINT (37.56325 55.48533)</td>\n",
       "    </tr>\n",
       "    <tr>\n",
       "      <th>3</th>\n",
       "      <td>None</td>\n",
       "      <td>None</td>\n",
       "      <td>None</td>\n",
       "      <td>None</td>\n",
       "      <td>None</td>\n",
       "      <td>POINT (37.57116 55.48542)</td>\n",
       "    </tr>\n",
       "    <tr>\n",
       "      <th>4</th>\n",
       "      <td>None</td>\n",
       "      <td>None</td>\n",
       "      <td>None</td>\n",
       "      <td>None</td>\n",
       "      <td>None</td>\n",
       "      <td>POINT (37.61071 55.48587)</td>\n",
       "    </tr>\n",
       "  </tbody>\n",
       "</table>\n",
       "</div>"
      ],
      "text/plain": [
       "  public   car  walk cycle  date                   geometry\n",
       "0   None  None  None  None  None  POINT (37.61878 55.48147)\n",
       "1   None  None  None  None  None  POINT (37.62668 55.48156)\n",
       "2   None  None  None  None  None  POINT (37.56325 55.48533)\n",
       "3   None  None  None  None  None  POINT (37.57116 55.48542)\n",
       "4   None  None  None  None  None  POINT (37.61071 55.48587)"
      ]
     },
     "execution_count": 4,
     "metadata": {},
     "output_type": "execute_result"
    }
   ],
   "source": [
    "grid = gpd.read_file('../data/shp/moscow_grid.shp')\n",
    "grid.head()"
   ]
  },
  {
   "cell_type": "code",
   "execution_count": 5,
   "id": "ec3a985a-ab41-418a-bdf1-28f887ea8720",
   "metadata": {},
   "outputs": [],
   "source": [
    "# configure Yandex Maps specific class names\n",
    "route_button = 'route-control__inner'\n",
    "\n",
    "modes = {\n",
    "    # mode: (button_class, result_class)\n",
    "    'car': ('_mode_auto', 'auto-route-snippet-view__route-title-primary'),\n",
    "    'public': ('_mode_masstransit', 'masstransit-route-snippet-view__route-duration'),\n",
    "    'walk': ('_mode_pedestrian', 'pedestrian-route-snippet-view__route-title-primary'),\n",
    "    'cycle': ('_mode_bicycle', 'bicycle-route-snippet-view__route-title-primary')\n",
    "}"
   ]
  },
  {
   "cell_type": "code",
   "execution_count": 6,
   "id": "093eeb6c-39f9-46a7-b938-ed30c2824fb6",
   "metadata": {},
   "outputs": [
    {
     "name": "stdout",
     "output_type": "stream",
     "text": [
      "car _mode_auto auto-route-snippet-view__route-title-primary\n",
      "public _mode_masstransit masstransit-route-snippet-view__route-duration\n",
      "walk _mode_pedestrian pedestrian-route-snippet-view__route-title-primary\n",
      "cycle _mode_bicycle bicycle-route-snippet-view__route-title-primary\n"
     ]
    }
   ],
   "source": [
    "for mode, (btn, res) in modes.items():\n",
    "    print(mode, btn, res)"
   ]
  },
  {
   "cell_type": "code",
   "execution_count": 7,
   "id": "63ee2a95-288f-43f2-a622-b995f6369822",
   "metadata": {
    "tags": []
   },
   "outputs": [],
   "source": [
    "def look_up_transit_time(from_, to, driver):\n",
    "\n",
    "    driver.get(\"https://yandex.ru/maps\")\n",
    "\n",
    "    # Let the page load: wait till DOM is fully constructed\n",
    "    time.sleep(2)\n",
    "\n",
    "    # Enter the route construction mode\n",
    "    driver.find_element(by=By.CLASS_NAME, value=route_button).click()\n",
    "\n",
    "    # Construct the keystroke sequence\n",
    "    actions = ActionChains(driver)\n",
    "    actions.send_keys(from_)\n",
    "    actions.send_keys(Keys.ENTER)\n",
    "    actions.send_keys(Keys.TAB)\n",
    "    actions.send_keys(to)\n",
    "    actions.send_keys(Keys.ENTER)\n",
    "\n",
    "    # Type everything in\n",
    "    time.sleep(1)\n",
    "    actions.perform()\n",
    "    \n",
    "    time.sleep(1)\n",
    "    times = dict()\n",
    "    for mode, (btn, res) in modes.items():\n",
    "        # Activate the corresponding mode by clicking the button\n",
    "        driver.find_element(by=By.CLASS_NAME, value=btn).click()\n",
    "        time.sleep(1.5)\n",
    "        try:\n",
    "            travel_time = driver.find_element(by=By.CLASS_NAME, value=res).text\n",
    "        except selenium.common.exceptions.NoSuchElementException:\n",
    "            travel_time = 'no route'\n",
    "        \n",
    "        times[mode] = travel_time\n",
    "\n",
    "    return times"
   ]
  },
  {
   "cell_type": "code",
   "execution_count": 8,
   "id": "4b4f455c-ff40-46ee-9247-a256db8bd8b8",
   "metadata": {},
   "outputs": [],
   "source": [
    "geometry = grid.loc[0, 'geometry']\n",
    "point = f'{geometry.y}, {geometry.x}'\n",
    "\n",
    "with webdriver.Firefox() as driver:\n",
    "    ttt = look_up_transit_time(point, zaryadye_park, driver)"
   ]
  },
  {
   "cell_type": "code",
   "execution_count": 9,
   "id": "b7e3d5b2-f7d0-4d64-8ea4-18a2164ff387",
   "metadata": {},
   "outputs": [
    {
     "name": "stdout",
     "output_type": "stream",
     "text": [
      "car 1 ч 17 мин\n",
      "public 1 ч 36 мин\n",
      "walk 7 ч 9 мин\n",
      "cycle 3 ч 19 мин\n"
     ]
    }
   ],
   "source": [
    "for mode, time_ in ttt.items():\n",
    "    print(mode, time_)"
   ]
  },
  {
   "cell_type": "code",
   "execution_count": 17,
   "id": "2bd78492-ea35-48d3-8874-151f29120f30",
   "metadata": {},
   "outputs": [],
   "source": [
    "with webdriver.Firefox() as driver:\n",
    "    \n",
    "    # iterate over the grid to find best ime for each point\n",
    "    for i, row in grid.iterrows():\n",
    "        \n",
    "        now = datetime.datetime.now()\n",
    "        if now.hour < 8 or now.hour > 19:\n",
    "            raise ValueError(\"It's either too early or too late! Results might be skeewed.\")\n",
    "        \n",
    "        geometry = row['geometry']\n",
    "        point = f'{geometry.y:.6f}, {geometry.x:.6f}'\n",
    "        times = look_up_transit_time(point, zaryadye_park, driver)\n",
    "        \n",
    "        for mode, time_ in times.items():\n",
    "            grid.loc[i, mode] = time_.replace('ч', 'h').replace('мин', 'm')\n",
    "\n",
    "        grid.loc[i, 'date'] = now.isoformat()\n",
    "                \n",
    "        # Be nice to the Yandex Maps server and separate the requests a little\n",
    "        time.sleep(3)\n",
    "        \n",
    "        if i > 0:\n",
    "            break"
   ]
  },
  {
   "cell_type": "code",
   "execution_count": 18,
   "id": "27c8a1cb-c6fb-4e59-8ec9-ce0da4d16db2",
   "metadata": {},
   "outputs": [
    {
     "data": {
      "text/html": [
       "<div>\n",
       "<style scoped>\n",
       "    .dataframe tbody tr th:only-of-type {\n",
       "        vertical-align: middle;\n",
       "    }\n",
       "\n",
       "    .dataframe tbody tr th {\n",
       "        vertical-align: top;\n",
       "    }\n",
       "\n",
       "    .dataframe thead th {\n",
       "        text-align: right;\n",
       "    }\n",
       "</style>\n",
       "<table border=\"1\" class=\"dataframe\">\n",
       "  <thead>\n",
       "    <tr style=\"text-align: right;\">\n",
       "      <th></th>\n",
       "      <th>public</th>\n",
       "      <th>car</th>\n",
       "      <th>walk</th>\n",
       "      <th>cycle</th>\n",
       "      <th>date</th>\n",
       "      <th>geometry</th>\n",
       "    </tr>\n",
       "  </thead>\n",
       "  <tbody>\n",
       "    <tr>\n",
       "      <th>0</th>\n",
       "      <td>1 h 36 m</td>\n",
       "      <td>1 h 14 m</td>\n",
       "      <td>7 h 9 m</td>\n",
       "      <td>3 h 19 m</td>\n",
       "      <td>2022-04-20T11:56:58.032570</td>\n",
       "      <td>POINT (37.61878 55.48147)</td>\n",
       "    </tr>\n",
       "    <tr>\n",
       "      <th>1</th>\n",
       "      <td>1 h 42 m</td>\n",
       "      <td>1 h 17 m</td>\n",
       "      <td>7 h 10 m</td>\n",
       "      <td>3 h 24 m</td>\n",
       "      <td>2022-04-20T11:57:14.648913</td>\n",
       "      <td>POINT (37.62668 55.48156)</td>\n",
       "    </tr>\n",
       "    <tr>\n",
       "      <th>2</th>\n",
       "      <td>None</td>\n",
       "      <td>None</td>\n",
       "      <td>None</td>\n",
       "      <td>None</td>\n",
       "      <td>None</td>\n",
       "      <td>POINT (37.56325 55.48533)</td>\n",
       "    </tr>\n",
       "    <tr>\n",
       "      <th>3</th>\n",
       "      <td>None</td>\n",
       "      <td>None</td>\n",
       "      <td>None</td>\n",
       "      <td>None</td>\n",
       "      <td>None</td>\n",
       "      <td>POINT (37.57116 55.48542)</td>\n",
       "    </tr>\n",
       "    <tr>\n",
       "      <th>4</th>\n",
       "      <td>None</td>\n",
       "      <td>None</td>\n",
       "      <td>None</td>\n",
       "      <td>None</td>\n",
       "      <td>None</td>\n",
       "      <td>POINT (37.61071 55.48587)</td>\n",
       "    </tr>\n",
       "  </tbody>\n",
       "</table>\n",
       "</div>"
      ],
      "text/plain": [
       "     public       car      walk     cycle                        date  \\\n",
       "0  1 h 36 m  1 h 14 m   7 h 9 m  3 h 19 m  2022-04-20T11:56:58.032570   \n",
       "1  1 h 42 m  1 h 17 m  7 h 10 m  3 h 24 m  2022-04-20T11:57:14.648913   \n",
       "2      None      None      None      None                        None   \n",
       "3      None      None      None      None                        None   \n",
       "4      None      None      None      None                        None   \n",
       "\n",
       "                    geometry  \n",
       "0  POINT (37.61878 55.48147)  \n",
       "1  POINT (37.62668 55.48156)  \n",
       "2  POINT (37.56325 55.48533)  \n",
       "3  POINT (37.57116 55.48542)  \n",
       "4  POINT (37.61071 55.48587)  "
      ]
     },
     "execution_count": 18,
     "metadata": {},
     "output_type": "execute_result"
    }
   ],
   "source": [
    "grid.head()"
   ]
  }
 ],
 "metadata": {
  "kernelspec": {
   "display_name": "Python 3 (ipykernel)",
   "language": "python",
   "name": "python3"
  },
  "language_info": {
   "codemirror_mode": {
    "name": "ipython",
    "version": 3
   },
   "file_extension": ".py",
   "mimetype": "text/x-python",
   "name": "python",
   "nbconvert_exporter": "python",
   "pygments_lexer": "ipython3",
   "version": "3.9.12"
  }
 },
 "nbformat": 4,
 "nbformat_minor": 5
}
